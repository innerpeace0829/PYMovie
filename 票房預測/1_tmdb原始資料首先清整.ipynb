{
 "cells": [
  {
   "cell_type": "code",
   "execution_count": 317,
   "id": "18248fba",
   "metadata": {},
   "outputs": [],
   "source": [
    "from tmdbv3api import TMDb\n",
    "from tmdbv3api import Movie\n",
    "import pandas as pd\n",
    "import numpy as np\n",
    "import requests\n",
    "import json, os, pprint, time, re\n",
    "from bs4 import BeautifulSoup as bs\n",
    "from datetime import date\n",
    "import holidays\n",
    "import matplotlib.pyplot as plt\n",
    "import seaborn as sns\n",
    "\n",
    "# 讀取檔案\n",
    "\n",
    "df = pd.read_json('raw_detail_300000_330093.json')\n",
    "\n",
    "# 'NaN','','0',0,轉成''\n",
    "\n",
    "for column_name in df.columns:\n",
    "    df.loc[df[column_name] == 'NaN', column_name] = ''\n",
    "    df.loc[df[column_name] == '' , column_name] = ''\n",
    "    df.loc[df[column_name] == '0', column_name] = ''\n",
    "    df.loc[df[column_name] == 0 , column_name] = ''\n",
    "    \n",
    "# 'title' , 'en_title' 篩掉標點符號 留英文 並將結果合併至 'title_sum_reg_new'\n",
    "\n",
    "df['title_reg_new'] = df['title'].str.replace('[^a-zA-Z0-9 ]',' ',regex = True).str.replace(' +',' ',regex = True).str.extract('([ \\dA-Za-z]*)')\n",
    "df['title_sum_reg_new'] = df['en_title'].str.replace('[^a-zA-Z0-9 ]',' ',regex = True).str.replace(' +',' ',regex = True).str.extract('([ \\dA-Za-z]*)')\n",
    "df.loc[df['title_reg_new'] == ' ','title_reg_new'] = ''\n",
    "df.loc[df['title_sum_reg_new'] == ' ','title_sum_reg_new'] = ''\n",
    "df.loc[df['title_sum_reg_new'] == '','title_sum_reg_new'] = df.loc[df['title_sum_reg_new'] == '','title_reg_new']\n",
    "\n",
    "# 如果是欄位是list 判定 是否有空[] 結果放進新的直欄\n",
    "\n",
    "for column_name in df.columns:\n",
    "    df.loc[df[column_name] == 'NaN', column_name] = ''\n",
    "    df.loc[df[column_name] == '' , column_name] = ''\n",
    "    df.loc[df[column_name] == '0', column_name] = ''\n",
    "    df.loc[df[column_name] == 0 , column_name] = ''\n",
    "    list_index = []\n",
    "    if type(df[column_name][0]) == type(list_index) :\n",
    "        df[f\"{column_name}_is_emptylist_new\"] = False\n",
    "        for index , element in enumerate(df[column_name]) :\n",
    "            if len(element) == 0:\n",
    "                list_index.append(index)\n",
    "        if len(list_index) > 0:\n",
    "            df.loc[df.index.isin(list_index),f\"{column_name}_is_emptylist_new\"] = True\n",
    "            \n",
    "# 暫定 => 新增假日欄位 , 預設 False\n",
    "\n",
    "us_holidays = holidays.country_holidays('US')\n",
    "us_holidays['2023-1-1']\n",
    "for holidayname in us_holidays.values() :\n",
    "    df[holidayname] = False\n",
    "    \n",
    "    \n",
    "# 判定發行商是否是美國 結果放進新的直欄\n",
    "\n",
    "list_index = []\n",
    "for index , countrylist in enumerate(df['production_countries']) :\n",
    "    df['country_is_USA_new'] = False\n",
    "    if 'United States of America' in countrylist :\n",
    "        list_index.append(index)\n",
    "if len(list_index) > 0:\n",
    "    df.loc[df.index.isin(list_index),\"country_is_USA_new\"] = True\n",
    "\n",
    "# movie_id 去重\n",
    "\n",
    "df = df[df.duplicated(subset='movie_id') == False]\n",
    "\n",
    "df.to_json('movieresult.json')"
   ]
  },
  {
   "cell_type": "code",
   "execution_count": 308,
   "id": "19e1b045-9f32-447d-a223-1aae93a43444",
   "metadata": {},
   "outputs": [],
   "source": [
    "df = pd.read_json('raw_detail_300000_330093.json')"
   ]
  },
  {
   "cell_type": "code",
   "execution_count": 309,
   "id": "4d3f2fcf-9eb1-4486-85c6-cac8541eb973",
   "metadata": {},
   "outputs": [
    {
     "name": "stdout",
     "output_type": "stream",
     "text": [
      "<class 'pandas.core.frame.DataFrame'>\n",
      "RangeIndex: 26748 entries, 0 to 26747\n",
      "Data columns (total 22 columns):\n",
      " #   Column                Non-Null Count  Dtype  \n",
      "---  ------                --------------  -----  \n",
      " 0   movie_id              26748 non-null  int64  \n",
      " 1   imdb_id               26748 non-null  object \n",
      " 2   title                 26748 non-null  object \n",
      " 3   en_title              26748 non-null  object \n",
      " 4   budget                26748 non-null  int64  \n",
      " 5   revenue               26748 non-null  int64  \n",
      " 6   original_language     26748 non-null  object \n",
      " 7   release_date          26748 non-null  object \n",
      " 8   avg_rating            26748 non-null  float64\n",
      " 9   vote_count            26748 non-null  int64  \n",
      " 10  sequal                26748 non-null  object \n",
      " 11  casts                 26748 non-null  object \n",
      " 12  keywords              26748 non-null  object \n",
      " 13  genres                26748 non-null  object \n",
      " 14  production_companies  26748 non-null  object \n",
      " 15  adult                 26748 non-null  bool   \n",
      " 16  overview              26748 non-null  object \n",
      " 17  popularity            26748 non-null  float64\n",
      " 18  production_countries  26748 non-null  object \n",
      " 19  runtime               26748 non-null  int64  \n",
      " 20  status                26748 non-null  object \n",
      " 21  tagline               26748 non-null  object \n",
      "dtypes: bool(1), float64(2), int64(5), object(14)\n",
      "memory usage: 4.3+ MB\n"
     ]
    }
   ],
   "source": [
    "df.info()"
   ]
  },
  {
   "cell_type": "code",
   "execution_count": 310,
   "id": "6e72441e-c499-4fc5-a552-52f371cf25c4",
   "metadata": {},
   "outputs": [],
   "source": [
    "# 'NaN','','0',0,轉成''\n",
    "for column_name in df.columns:\n",
    "    df.loc[df[column_name] == 'NaN', column_name] = ''\n",
    "    df.loc[df[column_name] == '' , column_name] = ''\n",
    "    df.loc[df[column_name] == '0', column_name] = ''\n",
    "    df.loc[df[column_name] == 0 , column_name] = ''"
   ]
  },
  {
   "cell_type": "code",
   "execution_count": 311,
   "id": "2d8c98ab-43a1-434e-b887-0a2e544cd22f",
   "metadata": {},
   "outputs": [],
   "source": [
    "# 'title' , 'en_title' 篩掉標點符號 留英文 並將結果合併至 'title_sum_reg_new'\n",
    "df['title_reg_new'] = df['title'].str.replace('[^a-zA-Z0-9 ]',' ',regex = True).str.replace(' +',' ',regex = True).str.extract('([ \\dA-Za-z]*)')\n",
    "df['title_sum_reg_new'] = df['en_title'].str.replace('[^a-zA-Z0-9 ]',' ',regex = True).str.replace(' +',' ',regex = True).str.extract('([ \\dA-Za-z]*)')\n",
    "df.loc[df['title_reg_new'] == ' ','title_reg_new'] = ''\n",
    "df.loc[df['title_sum_reg_new'] == ' ','title_sum_reg_new'] = ''\n",
    "df.loc[df['title_sum_reg_new'] == '','title_sum_reg_new'] = df.loc[df['title_sum_reg_new'] == '','title_reg_new'] "
   ]
  },
  {
   "cell_type": "code",
   "execution_count": 312,
   "id": "29405193-9990-4dc5-8963-1b13e882bb09",
   "metadata": {},
   "outputs": [],
   "source": [
    "# 如果是欄位是list 判定 是否有空[] 結果放進新的直欄\n",
    "for column_name in df.columns:\n",
    "    df.loc[df[column_name] == 'NaN', column_name] = ''\n",
    "    df.loc[df[column_name] == '' , column_name] = ''\n",
    "    df.loc[df[column_name] == '0', column_name] = ''\n",
    "    df.loc[df[column_name] == 0 , column_name] = ''\n",
    "    list_index = []\n",
    "    if type(df[column_name][0]) == type(list_index) :\n",
    "        df[f\"{column_name}_is_emptylist_new\"] = False\n",
    "        for index , element in enumerate(df[column_name]) :\n",
    "            if len(element) == 0:\n",
    "                list_index.append(index)\n",
    "        if len(list_index) > 0:\n",
    "            df.loc[df.index.isin(list_index),f\"{column_name}_is_emptylist_new\"] = True"
   ]
  },
  {
   "cell_type": "code",
   "execution_count": 313,
   "id": "d491ce3e-3e57-46d6-91c2-8399a047fddf",
   "metadata": {},
   "outputs": [
    {
     "name": "stdout",
     "output_type": "stream",
     "text": [
      "New Year's Day\n",
      "New Year's Day (Observed)\n",
      "Martin Luther King Jr. Day\n",
      "Washington's Birthday\n",
      "Memorial Day\n",
      "Juneteenth National Independence Day\n",
      "Independence Day\n",
      "Labor Day\n",
      "Columbus Day\n",
      "Veterans Day\n",
      "Veterans Day (Observed)\n",
      "Thanksgiving\n",
      "Christmas Day\n"
     ]
    }
   ],
   "source": [
    "# 暫定 => 新增假日欄位 , 預設 False\n",
    "us_holidays = holidays.country_holidays('US')\n",
    "us_holidays['2023-1-1']\n",
    "for holidayname in us_holidays.values() :\n",
    "    df[holidayname] = False"
   ]
  },
  {
   "cell_type": "code",
   "execution_count": 314,
   "id": "0ccc5c5d-de76-4dae-a39d-b3f7c4621281",
   "metadata": {
    "tags": []
   },
   "outputs": [],
   "source": [
    "# 判定發行商是否是美國\n",
    "list_index = []\n",
    "for index , countrylist in enumerate(df['production_countries']) :\n",
    "    df['country_is_USA_new'] = False\n",
    "    if 'United States of America' in countrylist :\n",
    "        list_index.append(index)\n",
    "if len(list_index) > 0:\n",
    "    df.loc[df.index.isin(list_index),\"country_is_USA_new\"] = True"
   ]
  },
  {
   "cell_type": "code",
   "execution_count": 315,
   "id": "b83ed0ba-6fe7-4f7e-b490-f87474485e89",
   "metadata": {},
   "outputs": [],
   "source": [
    "# movie_id 去重\n",
    "df = df[df.duplicated(subset='movie_id') == False]"
   ]
  },
  {
   "cell_type": "code",
   "execution_count": 316,
   "id": "f7efc0d9-bc2c-4dc6-86a5-64208a99b9ce",
   "metadata": {},
   "outputs": [
    {
     "name": "stdout",
     "output_type": "stream",
     "text": [
      "<class 'pandas.core.frame.DataFrame'>\n",
      "Int64Index: 26748 entries, 0 to 26747\n",
      "Data columns (total 43 columns):\n",
      " #   Column                                 Non-Null Count  Dtype \n",
      "---  ------                                 --------------  ----- \n",
      " 0   movie_id                               26748 non-null  object\n",
      " 1   imdb_id                                26748 non-null  object\n",
      " 2   title                                  26748 non-null  object\n",
      " 3   en_title                               26748 non-null  object\n",
      " 4   budget                                 26748 non-null  object\n",
      " 5   revenue                                26748 non-null  object\n",
      " 6   original_language                      26748 non-null  object\n",
      " 7   release_date                           26748 non-null  object\n",
      " 8   avg_rating                             26748 non-null  object\n",
      " 9   vote_count                             26748 non-null  object\n",
      " 10  sequal                                 26748 non-null  object\n",
      " 11  casts                                  26748 non-null  object\n",
      " 12  keywords                               26748 non-null  object\n",
      " 13  genres                                 26748 non-null  object\n",
      " 14  production_companies                   26748 non-null  object\n",
      " 15  adult                                  26748 non-null  object\n",
      " 16  overview                               26748 non-null  object\n",
      " 17  popularity                             26748 non-null  object\n",
      " 18  production_countries                   26748 non-null  object\n",
      " 19  runtime                                26748 non-null  object\n",
      " 20  status                                 26748 non-null  object\n",
      " 21  tagline                                26748 non-null  object\n",
      " 22  title_reg_new                          26748 non-null  object\n",
      " 23  title_sum_reg_new                      26748 non-null  object\n",
      " 24  casts_is_emptylist_new                 26748 non-null  bool  \n",
      " 25  keywords_is_emptylist_new              26748 non-null  bool  \n",
      " 26  genres_is_emptylist_new                26748 non-null  bool  \n",
      " 27  production_companies_is_emptylist_new  26748 non-null  bool  \n",
      " 28  production_countries_is_emptylist_new  26748 non-null  bool  \n",
      " 29  New Year's Day                         26748 non-null  bool  \n",
      " 30  New Year's Day (Observed)              26748 non-null  bool  \n",
      " 31  Martin Luther King Jr. Day             26748 non-null  bool  \n",
      " 32  Washington's Birthday                  26748 non-null  bool  \n",
      " 33  Memorial Day                           26748 non-null  bool  \n",
      " 34  Juneteenth National Independence Day   26748 non-null  bool  \n",
      " 35  Independence Day                       26748 non-null  bool  \n",
      " 36  Labor Day                              26748 non-null  bool  \n",
      " 37  Columbus Day                           26748 non-null  bool  \n",
      " 38  Veterans Day                           26748 non-null  bool  \n",
      " 39  Veterans Day (Observed)                26748 non-null  bool  \n",
      " 40  Thanksgiving                           26748 non-null  bool  \n",
      " 41  Christmas Day                          26748 non-null  bool  \n",
      " 42  country_is_USA_new                     26748 non-null  bool  \n",
      "dtypes: bool(19), object(24)\n",
      "memory usage: 5.6+ MB\n"
     ]
    }
   ],
   "source": [
    "df.info()"
   ]
  }
 ],
 "metadata": {
  "kernelspec": {
   "display_name": "Python 3 (ipykernel)",
   "language": "python",
   "name": "python3"
  },
  "language_info": {
   "codemirror_mode": {
    "name": "ipython",
    "version": 3
   },
   "file_extension": ".py",
   "mimetype": "text/x-python",
   "name": "python",
   "nbconvert_exporter": "python",
   "pygments_lexer": "ipython3",
   "version": "3.9.13"
  }
 },
 "nbformat": 4,
 "nbformat_minor": 5
}
