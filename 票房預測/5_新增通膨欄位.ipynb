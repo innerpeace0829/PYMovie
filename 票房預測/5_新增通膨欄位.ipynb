{
 "cells": [
  {
   "cell_type": "code",
   "execution_count": null,
   "id": "81e56133",
   "metadata": {},
   "outputs": [],
   "source": [
    "dfCPI = pd.read_csv(r'C:\\Users\\acer\\pythonCode\\uscpi.csv',encoding=\"utf_8_sig\")\n",
    "dfCPI[\"年份\"]=dfCPI[\"年份\"].astype(str)\n",
    "# dfCPI[\"基數\"]=dfCPI[\"基數\"].astype(int)\n",
    "print (type(dfCPI[\"年份\"][2]))\n",
    "print (type(dfCPI[\"基數\"][2]))\n",
    "dfCPI\n",
    "\n",
    "listyear=[]\n",
    "listratio=[]\n",
    "for i in dfCPI[\"年份\"]:\n",
    "    listyear.append(i)\n",
    "for i in dfCPI[\"基數\"]:\n",
    "    listratio.append(292.7/i)\n",
    "dicRation={}\n",
    "count =0\n",
    "for i in listyear:\n",
    "    dicRation[i]=listratio[count]\n",
    "    count+=1\n",
    "dicRation[np.nan]=\"nan\"\n",
    "print (dicRation)\n",
    "print (type(listyear[0]))\n",
    "print (type(listratio[0]))\n",
    "\n",
    "dfPerfect = pd.read_csv(r'C:\\Users\\acer\\pythonCode\\perfect_data.csv',encoding=\"utf_8_sig\")\n",
    "dfPerfect[\"year\"]=dfPerfect[\"release_date\"].str[:4]\n",
    "dfPerfect[\"ratio\"]=''\n",
    "dfPerfect[\"budget_to_2022\"]=''\n",
    "dfPerfect[\"revernu_to_2022\"]=''\n",
    "dfPerfect\n",
    "\n",
    "\n",
    "print (dfPerfect['year'][9])\n",
    "print (type(dfPerfect['year'][9]))\n",
    "\n",
    "listRatio2=[]\n",
    "for i in dfPerfect['year']:\n",
    "#     print (dicRation[i])\n",
    "    listRatio2.append(dicRation[i])\n",
    "listRatio2\n",
    "dfPerfect['ratio']=listRatio2\n",
    "dfPerfect['budget_to_2022']=dfPerfect['ratio']*dfPerfect['budget']\n",
    "dfPerfect['revernu_to_2022']=dfPerfect['ratio']*dfPerfect['revenue']\n",
    "\n",
    "dfPerfect\n",
    "\n",
    "dfPerfect.to_csv(\"dfAddBudgetTo2022.csv\",encoding=\"utf_8_sig\")"
   ]
  }
 ],
 "metadata": {
  "kernelspec": {
   "display_name": "Python 3 (ipykernel)",
   "language": "python",
   "name": "python3"
  },
  "language_info": {
   "codemirror_mode": {
    "name": "ipython",
    "version": 3
   },
   "file_extension": ".py",
   "mimetype": "text/x-python",
   "name": "python",
   "nbconvert_exporter": "python",
   "pygments_lexer": "ipython3",
   "version": "3.9.13"
  }
 },
 "nbformat": 4,
 "nbformat_minor": 5
}
