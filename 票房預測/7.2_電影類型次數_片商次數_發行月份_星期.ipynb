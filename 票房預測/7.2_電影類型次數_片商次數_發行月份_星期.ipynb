{
 "cells": [
  {
   "cell_type": "code",
   "execution_count": null,
   "id": "bb7d58af",
   "metadata": {},
   "outputs": [],
   "source": [
    "import pandas as pd\n",
    "df = pd.read_csv(\"df_final5.csv\")\n",
    "df = df[df['year']!=2023]\n",
    "# 新增電影類型數量欄位\n",
    "\n",
    "type_list=[]\n",
    "for string in df[\"genres\"]:\n",
    "    type_list+=ast.literal_eval(string)\n",
    "genres=list(set(type_list)) # 取得電影種類\n",
    "\n",
    "df['genres_num']=0\n",
    "for genres_ in genres:\n",
    "    df['genres_num']+=df[genres_] # 新增電影類型數量欄位\n",
    "\n",
    "# 新增片商類型數量欄位\n",
    "\n",
    "type_list=[]\n",
    "for string in df[\"production_companies\"]:\n",
    "    type_list+=ast.literal_eval(string)\n",
    "movie_comp=list(set(type_list)) # 取得片商種類\n",
    "\n",
    "df['company_num']=0 # 新增製片商數量欄位\n",
    "for company in movie_comp:\n",
    "    df['company_num']+=df[company]\n",
    "\n",
    "# 取得月份,星期欄位\n",
    "def date_features(df):\n",
    "    df['release_date'] = pd.to_datetime(df['release_date'])  # 轉換時間\n",
    "    df['release_weekday'] = df['release_date'].dt.weekday+1 # 提取星期\n",
    "    df['release_month'] = df['release_date'].dt.month     # 提取月\n",
    "    return df\n",
    "\n",
    "# 得獎演員次人數欄位\n",
    "df['award_num']=0\n",
    "for num in range(1,7):\n",
    "    df['award_num']+=df[f\"actor{num}_count\"].apply(lambda x :1 if x !=0 else 0)\n",
    "\n",
    "# df['main_company_code'] 是將片商的第一個值取出,並統計出前200家次數最多片商做編碼(1-200)\n",
    "# 其他200名後即空值都歸類為同一類(0)"
   ]
  }
 ],
 "metadata": {
  "kernelspec": {
   "display_name": "Python 3 (ipykernel)",
   "language": "python",
   "name": "python3"
  },
  "language_info": {
   "codemirror_mode": {
    "name": "ipython",
    "version": 3
   },
   "file_extension": ".py",
   "mimetype": "text/x-python",
   "name": "python",
   "nbconvert_exporter": "python",
   "pygments_lexer": "ipython3",
   "version": "3.9.13"
  }
 },
 "nbformat": 4,
 "nbformat_minor": 5
}
